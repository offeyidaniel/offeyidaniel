{
 "cells": [
  {
   "cell_type": "markdown",
   "id": "902e3627",
   "metadata": {},
   "source": [
    "# 1. Import data and libraries"
   ]
  },
  {
   "cell_type": "code",
   "execution_count": 2,
   "id": "731c02fb",
   "metadata": {},
   "outputs": [],
   "source": [
    "import pandas as pd\n",
    "import numpy as np\n",
    "import seaborn as sns\n",
    "import matplotlib\n",
    "import os\n",
    "import folium\n",
    "import json"
   ]
  },
  {
   "cell_type": "code",
   "execution_count": 4,
   "id": "103713dd",
   "metadata": {},
   "outputs": [],
   "source": [
    "# This command propts matplotlib visuals to appear in the notebook \n",
    "\n",
    "%matplotlib inline"
   ]
  },
  {
   "cell_type": "code",
   "execution_count": 121,
   "id": "ac3fe021",
   "metadata": {},
   "outputs": [],
   "source": [
    "# Import \".json\" file for the U.S. \n",
    "\n",
    "country_geo = '/Users/brooks/Downloads/6/6.1/World Happiness Data/02 Data/Original Data/custom.geo.json'\n"
   ]
  },
  {
   "cell_type": "code",
   "execution_count": 16,
   "id": "8d64907d",
   "metadata": {},
   "outputs": [],
   "source": [
    "#folder shortcut\n",
    "path = r'/Users/brooks/Downloads/6/6.1/World Happiness Data/02 Data/Prepared Data'\n"
   ]
  },
  {
   "cell_type": "code",
   "execution_count": 18,
   "id": "2fa0562e",
   "metadata": {},
   "outputs": [
    {
     "data": {
      "text/plain": [
       "'/Users/brooks'"
      ]
     },
     "execution_count": 18,
     "metadata": {},
     "output_type": "execute_result"
    }
   ],
   "source": [
    "#current dir\n",
    "cwd = os.getcwd()\n",
    "cwd"
   ]
  },
  {
   "cell_type": "code",
   "execution_count": 27,
   "id": "07e72029",
   "metadata": {},
   "outputs": [],
   "source": [
    "# Join path Happiness_data_final.csv\n",
    "df = pd.read_csv(os.path.join(path,'Happiness_data_final.csv'), index_col = False)"
   ]
  },
  {
   "cell_type": "code",
   "execution_count": 28,
   "id": "72e50dde",
   "metadata": {},
   "outputs": [
    {
     "data": {
      "text/html": [
       "<div>\n",
       "<style scoped>\n",
       "    .dataframe tbody tr th:only-of-type {\n",
       "        vertical-align: middle;\n",
       "    }\n",
       "\n",
       "    .dataframe tbody tr th {\n",
       "        vertical-align: top;\n",
       "    }\n",
       "\n",
       "    .dataframe thead th {\n",
       "        text-align: right;\n",
       "    }\n",
       "</style>\n",
       "<table border=\"1\" class=\"dataframe\">\n",
       "  <thead>\n",
       "    <tr style=\"text-align: right;\">\n",
       "      <th></th>\n",
       "      <th>Unnamed: 0</th>\n",
       "      <th>Country</th>\n",
       "      <th>Region</th>\n",
       "      <th>Happiness Rank</th>\n",
       "      <th>Happiness Score</th>\n",
       "      <th>Standard Error</th>\n",
       "      <th>Economy (GDP per Capita)</th>\n",
       "      <th>Social Support</th>\n",
       "      <th>Health (Life Expectancy)</th>\n",
       "      <th>Freedom</th>\n",
       "      <th>Trust (Government Corruption)</th>\n",
       "      <th>Generosity</th>\n",
       "      <th>Year</th>\n",
       "      <th>Lower Confidence Interval</th>\n",
       "      <th>Upper Confidence Interval</th>\n",
       "      <th>Standard error of Happiness score</th>\n",
       "    </tr>\n",
       "  </thead>\n",
       "  <tbody>\n",
       "    <tr>\n",
       "      <th>0</th>\n",
       "      <td>152</td>\n",
       "      <td>Afghanistan</td>\n",
       "      <td>Southern Asia</td>\n",
       "      <td>153</td>\n",
       "      <td>3.575</td>\n",
       "      <td>0.030840</td>\n",
       "      <td>0.319820</td>\n",
       "      <td>0.302850</td>\n",
       "      <td>0.303350</td>\n",
       "      <td>0.23414</td>\n",
       "      <td>0.097190</td>\n",
       "      <td>0.365100</td>\n",
       "      <td>2015</td>\n",
       "      <td>3.288000</td>\n",
       "      <td>3.432000</td>\n",
       "      <td>0.031311</td>\n",
       "    </tr>\n",
       "    <tr>\n",
       "      <th>1</th>\n",
       "      <td>469</td>\n",
       "      <td>Afghanistan</td>\n",
       "      <td>Southern Asia</td>\n",
       "      <td>154</td>\n",
       "      <td>3.360</td>\n",
       "      <td>0.032983</td>\n",
       "      <td>0.382270</td>\n",
       "      <td>0.110370</td>\n",
       "      <td>0.173440</td>\n",
       "      <td>0.16430</td>\n",
       "      <td>0.071120</td>\n",
       "      <td>0.312680</td>\n",
       "      <td>2016</td>\n",
       "      <td>3.288000</td>\n",
       "      <td>3.432000</td>\n",
       "      <td>0.031311</td>\n",
       "    </tr>\n",
       "    <tr>\n",
       "      <th>2</th>\n",
       "      <td>608</td>\n",
       "      <td>Afghanistan</td>\n",
       "      <td>Southern Asia</td>\n",
       "      <td>141</td>\n",
       "      <td>3.794</td>\n",
       "      <td>0.035127</td>\n",
       "      <td>0.401477</td>\n",
       "      <td>0.581543</td>\n",
       "      <td>0.180747</td>\n",
       "      <td>0.10618</td>\n",
       "      <td>0.061158</td>\n",
       "      <td>0.311871</td>\n",
       "      <td>2017</td>\n",
       "      <td>3.714338</td>\n",
       "      <td>3.873661</td>\n",
       "      <td>0.031311</td>\n",
       "    </tr>\n",
       "    <tr>\n",
       "      <th>3</th>\n",
       "      <td>761</td>\n",
       "      <td>Afghanistan</td>\n",
       "      <td>Southern Asia</td>\n",
       "      <td>145</td>\n",
       "      <td>3.632</td>\n",
       "      <td>0.037270</td>\n",
       "      <td>0.332000</td>\n",
       "      <td>0.537000</td>\n",
       "      <td>0.255000</td>\n",
       "      <td>0.08500</td>\n",
       "      <td>0.036000</td>\n",
       "      <td>0.191000</td>\n",
       "      <td>2018</td>\n",
       "      <td>3.311402</td>\n",
       "      <td>3.458531</td>\n",
       "      <td>0.031311</td>\n",
       "    </tr>\n",
       "    <tr>\n",
       "      <th>4</th>\n",
       "      <td>919</td>\n",
       "      <td>Afghanistan</td>\n",
       "      <td>Southern Asia</td>\n",
       "      <td>154</td>\n",
       "      <td>3.203</td>\n",
       "      <td>0.039413</td>\n",
       "      <td>0.350000</td>\n",
       "      <td>0.517000</td>\n",
       "      <td>0.361000</td>\n",
       "      <td>0.00000</td>\n",
       "      <td>0.025000</td>\n",
       "      <td>0.158000</td>\n",
       "      <td>2019</td>\n",
       "      <td>2.908466</td>\n",
       "      <td>3.043401</td>\n",
       "      <td>0.031311</td>\n",
       "    </tr>\n",
       "  </tbody>\n",
       "</table>\n",
       "</div>"
      ],
      "text/plain": [
       "   Unnamed: 0      Country         Region  Happiness Rank  Happiness Score  \\\n",
       "0         152  Afghanistan  Southern Asia             153            3.575   \n",
       "1         469  Afghanistan  Southern Asia             154            3.360   \n",
       "2         608  Afghanistan  Southern Asia             141            3.794   \n",
       "3         761  Afghanistan  Southern Asia             145            3.632   \n",
       "4         919  Afghanistan  Southern Asia             154            3.203   \n",
       "\n",
       "   Standard Error  Economy (GDP per Capita)  Social Support  \\\n",
       "0        0.030840                  0.319820        0.302850   \n",
       "1        0.032983                  0.382270        0.110370   \n",
       "2        0.035127                  0.401477        0.581543   \n",
       "3        0.037270                  0.332000        0.537000   \n",
       "4        0.039413                  0.350000        0.517000   \n",
       "\n",
       "   Health (Life Expectancy)  Freedom  Trust (Government Corruption)  \\\n",
       "0                  0.303350  0.23414                       0.097190   \n",
       "1                  0.173440  0.16430                       0.071120   \n",
       "2                  0.180747  0.10618                       0.061158   \n",
       "3                  0.255000  0.08500                       0.036000   \n",
       "4                  0.361000  0.00000                       0.025000   \n",
       "\n",
       "   Generosity  Year  Lower Confidence Interval  Upper Confidence Interval  \\\n",
       "0    0.365100  2015                   3.288000                   3.432000   \n",
       "1    0.312680  2016                   3.288000                   3.432000   \n",
       "2    0.311871  2017                   3.714338                   3.873661   \n",
       "3    0.191000  2018                   3.311402                   3.458531   \n",
       "4    0.158000  2019                   2.908466                   3.043401   \n",
       "\n",
       "   Standard error of Happiness score  \n",
       "0                           0.031311  \n",
       "1                           0.031311  \n",
       "2                           0.031311  \n",
       "3                           0.031311  \n",
       "4                           0.031311  "
      ]
     },
     "execution_count": 28,
     "metadata": {},
     "output_type": "execute_result"
    }
   ],
   "source": [
    "df.head()"
   ]
  },
  {
   "cell_type": "code",
   "execution_count": 43,
   "id": "8b31c519",
   "metadata": {
    "scrolled": true
   },
   "outputs": [
    {
     "data": {
      "text/plain": [
       "(1470, 16)"
      ]
     },
     "execution_count": 43,
     "metadata": {},
     "output_type": "execute_result"
    }
   ],
   "source": [
    "df.shape"
   ]
  },
  {
   "cell_type": "code",
   "execution_count": 45,
   "id": "de2e9ffd",
   "metadata": {},
   "outputs": [
    {
     "data": {
      "text/html": [
       "<div>\n",
       "<style scoped>\n",
       "    .dataframe tbody tr th:only-of-type {\n",
       "        vertical-align: middle;\n",
       "    }\n",
       "\n",
       "    .dataframe tbody tr th {\n",
       "        vertical-align: top;\n",
       "    }\n",
       "\n",
       "    .dataframe thead th {\n",
       "        text-align: right;\n",
       "    }\n",
       "</style>\n",
       "<table border=\"1\" class=\"dataframe\">\n",
       "  <thead>\n",
       "    <tr style=\"text-align: right;\">\n",
       "      <th></th>\n",
       "      <th>Country</th>\n",
       "      <th>Region</th>\n",
       "      <th>Happiness Rank</th>\n",
       "      <th>Happiness Score</th>\n",
       "      <th>Standard Error</th>\n",
       "      <th>Economy (GDP per Capita)</th>\n",
       "      <th>Social Support</th>\n",
       "      <th>Health (Life Expectancy)</th>\n",
       "      <th>Freedom</th>\n",
       "      <th>Trust (Government Corruption)</th>\n",
       "      <th>Generosity</th>\n",
       "      <th>Year</th>\n",
       "      <th>Standard error of Happiness score</th>\n",
       "    </tr>\n",
       "  </thead>\n",
       "  <tbody>\n",
       "    <tr>\n",
       "      <th>0</th>\n",
       "      <td>Afghanistan</td>\n",
       "      <td>Southern Asia</td>\n",
       "      <td>153</td>\n",
       "      <td>3.5750</td>\n",
       "      <td>0.030840</td>\n",
       "      <td>0.319820</td>\n",
       "      <td>0.302850</td>\n",
       "      <td>0.303350</td>\n",
       "      <td>0.234140</td>\n",
       "      <td>0.097190</td>\n",
       "      <td>0.365100</td>\n",
       "      <td>2015</td>\n",
       "      <td>0.031311</td>\n",
       "    </tr>\n",
       "    <tr>\n",
       "      <th>1</th>\n",
       "      <td>Afghanistan</td>\n",
       "      <td>Southern Asia</td>\n",
       "      <td>154</td>\n",
       "      <td>3.3600</td>\n",
       "      <td>0.032983</td>\n",
       "      <td>0.382270</td>\n",
       "      <td>0.110370</td>\n",
       "      <td>0.173440</td>\n",
       "      <td>0.164300</td>\n",
       "      <td>0.071120</td>\n",
       "      <td>0.312680</td>\n",
       "      <td>2016</td>\n",
       "      <td>0.031311</td>\n",
       "    </tr>\n",
       "    <tr>\n",
       "      <th>2</th>\n",
       "      <td>Afghanistan</td>\n",
       "      <td>Southern Asia</td>\n",
       "      <td>141</td>\n",
       "      <td>3.7940</td>\n",
       "      <td>0.035127</td>\n",
       "      <td>0.401477</td>\n",
       "      <td>0.581543</td>\n",
       "      <td>0.180747</td>\n",
       "      <td>0.106180</td>\n",
       "      <td>0.061158</td>\n",
       "      <td>0.311871</td>\n",
       "      <td>2017</td>\n",
       "      <td>0.031311</td>\n",
       "    </tr>\n",
       "    <tr>\n",
       "      <th>3</th>\n",
       "      <td>Afghanistan</td>\n",
       "      <td>Southern Asia</td>\n",
       "      <td>145</td>\n",
       "      <td>3.6320</td>\n",
       "      <td>0.037270</td>\n",
       "      <td>0.332000</td>\n",
       "      <td>0.537000</td>\n",
       "      <td>0.255000</td>\n",
       "      <td>0.085000</td>\n",
       "      <td>0.036000</td>\n",
       "      <td>0.191000</td>\n",
       "      <td>2018</td>\n",
       "      <td>0.031311</td>\n",
       "    </tr>\n",
       "    <tr>\n",
       "      <th>4</th>\n",
       "      <td>Afghanistan</td>\n",
       "      <td>Southern Asia</td>\n",
       "      <td>154</td>\n",
       "      <td>3.2030</td>\n",
       "      <td>0.039413</td>\n",
       "      <td>0.350000</td>\n",
       "      <td>0.517000</td>\n",
       "      <td>0.361000</td>\n",
       "      <td>0.000000</td>\n",
       "      <td>0.025000</td>\n",
       "      <td>0.158000</td>\n",
       "      <td>2019</td>\n",
       "      <td>0.031311</td>\n",
       "    </tr>\n",
       "    <tr>\n",
       "      <th>...</th>\n",
       "      <td>...</td>\n",
       "      <td>...</td>\n",
       "      <td>...</td>\n",
       "      <td>...</td>\n",
       "      <td>...</td>\n",
       "      <td>...</td>\n",
       "      <td>...</td>\n",
       "      <td>...</td>\n",
       "      <td>...</td>\n",
       "      <td>...</td>\n",
       "      <td>...</td>\n",
       "      <td>...</td>\n",
       "      <td>...</td>\n",
       "    </tr>\n",
       "    <tr>\n",
       "      <th>1465</th>\n",
       "      <td>Zimbabwe</td>\n",
       "      <td>Sub-Saharan Africa</td>\n",
       "      <td>146</td>\n",
       "      <td>3.6630</td>\n",
       "      <td>0.042900</td>\n",
       "      <td>0.366000</td>\n",
       "      <td>1.114000</td>\n",
       "      <td>0.433000</td>\n",
       "      <td>0.361000</td>\n",
       "      <td>0.089000</td>\n",
       "      <td>0.151000</td>\n",
       "      <td>2019</td>\n",
       "      <td>0.063721</td>\n",
       "    </tr>\n",
       "    <tr>\n",
       "      <th>1466</th>\n",
       "      <td>Zimbabwe</td>\n",
       "      <td>Sub-Saharan Africa</td>\n",
       "      <td>151</td>\n",
       "      <td>3.2992</td>\n",
       "      <td>0.042900</td>\n",
       "      <td>7.865712</td>\n",
       "      <td>0.763093</td>\n",
       "      <td>55.617260</td>\n",
       "      <td>0.711458</td>\n",
       "      <td>0.810237</td>\n",
       "      <td>-0.072064</td>\n",
       "      <td>2020</td>\n",
       "      <td>0.058674</td>\n",
       "    </tr>\n",
       "    <tr>\n",
       "      <th>1467</th>\n",
       "      <td>Zimbabwe</td>\n",
       "      <td>Sub-Saharan Africa</td>\n",
       "      <td>148</td>\n",
       "      <td>3.1450</td>\n",
       "      <td>0.042900</td>\n",
       "      <td>7.943000</td>\n",
       "      <td>0.750000</td>\n",
       "      <td>56.201000</td>\n",
       "      <td>0.677000</td>\n",
       "      <td>0.821000</td>\n",
       "      <td>-0.047000</td>\n",
       "      <td>2021</td>\n",
       "      <td>0.058000</td>\n",
       "    </tr>\n",
       "    <tr>\n",
       "      <th>1468</th>\n",
       "      <td>Zimbabwe</td>\n",
       "      <td>Sub-Saharan Africa</td>\n",
       "      <td>144</td>\n",
       "      <td>2.9950</td>\n",
       "      <td>0.042900</td>\n",
       "      <td>7.792000</td>\n",
       "      <td>0.720000</td>\n",
       "      <td>55.125500</td>\n",
       "      <td>0.665500</td>\n",
       "      <td>0.793500</td>\n",
       "      <td>-0.046500</td>\n",
       "      <td>2022</td>\n",
       "      <td>0.059500</td>\n",
       "    </tr>\n",
       "    <tr>\n",
       "      <th>1469</th>\n",
       "      <td>Zimbabwe</td>\n",
       "      <td>Sub-Saharan Africa</td>\n",
       "      <td>134</td>\n",
       "      <td>3.2040</td>\n",
       "      <td>0.042900</td>\n",
       "      <td>7.641000</td>\n",
       "      <td>0.690000</td>\n",
       "      <td>54.050000</td>\n",
       "      <td>0.654000</td>\n",
       "      <td>0.766000</td>\n",
       "      <td>-0.046000</td>\n",
       "      <td>2023</td>\n",
       "      <td>0.061000</td>\n",
       "    </tr>\n",
       "  </tbody>\n",
       "</table>\n",
       "<p>1470 rows × 13 columns</p>\n",
       "</div>"
      ],
      "text/plain": [
       "          Country              Region  Happiness Rank  Happiness Score  \\\n",
       "0     Afghanistan       Southern Asia             153           3.5750   \n",
       "1     Afghanistan       Southern Asia             154           3.3600   \n",
       "2     Afghanistan       Southern Asia             141           3.7940   \n",
       "3     Afghanistan       Southern Asia             145           3.6320   \n",
       "4     Afghanistan       Southern Asia             154           3.2030   \n",
       "...           ...                 ...             ...              ...   \n",
       "1465     Zimbabwe  Sub-Saharan Africa             146           3.6630   \n",
       "1466     Zimbabwe  Sub-Saharan Africa             151           3.2992   \n",
       "1467     Zimbabwe  Sub-Saharan Africa             148           3.1450   \n",
       "1468     Zimbabwe  Sub-Saharan Africa             144           2.9950   \n",
       "1469     Zimbabwe  Sub-Saharan Africa             134           3.2040   \n",
       "\n",
       "      Standard Error  Economy (GDP per Capita)  Social Support  \\\n",
       "0           0.030840                  0.319820        0.302850   \n",
       "1           0.032983                  0.382270        0.110370   \n",
       "2           0.035127                  0.401477        0.581543   \n",
       "3           0.037270                  0.332000        0.537000   \n",
       "4           0.039413                  0.350000        0.517000   \n",
       "...              ...                       ...             ...   \n",
       "1465        0.042900                  0.366000        1.114000   \n",
       "1466        0.042900                  7.865712        0.763093   \n",
       "1467        0.042900                  7.943000        0.750000   \n",
       "1468        0.042900                  7.792000        0.720000   \n",
       "1469        0.042900                  7.641000        0.690000   \n",
       "\n",
       "      Health (Life Expectancy)   Freedom  Trust (Government Corruption)  \\\n",
       "0                     0.303350  0.234140                       0.097190   \n",
       "1                     0.173440  0.164300                       0.071120   \n",
       "2                     0.180747  0.106180                       0.061158   \n",
       "3                     0.255000  0.085000                       0.036000   \n",
       "4                     0.361000  0.000000                       0.025000   \n",
       "...                        ...       ...                            ...   \n",
       "1465                  0.433000  0.361000                       0.089000   \n",
       "1466                 55.617260  0.711458                       0.810237   \n",
       "1467                 56.201000  0.677000                       0.821000   \n",
       "1468                 55.125500  0.665500                       0.793500   \n",
       "1469                 54.050000  0.654000                       0.766000   \n",
       "\n",
       "      Generosity  Year  Standard error of Happiness score  \n",
       "0       0.365100  2015                           0.031311  \n",
       "1       0.312680  2016                           0.031311  \n",
       "2       0.311871  2017                           0.031311  \n",
       "3       0.191000  2018                           0.031311  \n",
       "4       0.158000  2019                           0.031311  \n",
       "...          ...   ...                                ...  \n",
       "1465    0.151000  2019                           0.063721  \n",
       "1466   -0.072064  2020                           0.058674  \n",
       "1467   -0.047000  2021                           0.058000  \n",
       "1468   -0.046500  2022                           0.059500  \n",
       "1469   -0.046000  2023                           0.061000  \n",
       "\n",
       "[1470 rows x 13 columns]"
      ]
     },
     "execution_count": 45,
     "metadata": {},
     "output_type": "execute_result"
    }
   ],
   "source": [
    "pd. DataFrame(df_hap)"
   ]
  },
  {
   "cell_type": "markdown",
   "id": "8cdd7ad3",
   "metadata": {},
   "source": [
    "# 2. Data wrangling"
   ]
  },
  {
   "cell_type": "markdown",
   "id": "81770bd2",
   "metadata": {},
   "source": [
    "# Fix dummy columns"
   ]
  },
  {
   "cell_type": "code",
   "execution_count": 46,
   "id": "9584d555",
   "metadata": {},
   "outputs": [],
   "source": [
    "# create subset by dropping the column Unnamed:0 and the columns Lower & Upper Confidence Interval since they are not relevant for the relationship analysis.\n",
    "df_hap = df.drop(columns = ['Unnamed: 0', 'Lower Confidence Interval', 'Upper Confidence Interval'])"
   ]
  },
  {
   "cell_type": "code",
   "execution_count": 47,
   "id": "99d486a7",
   "metadata": {
    "scrolled": true
   },
   "outputs": [
    {
     "data": {
      "text/html": [
       "<div>\n",
       "<style scoped>\n",
       "    .dataframe tbody tr th:only-of-type {\n",
       "        vertical-align: middle;\n",
       "    }\n",
       "\n",
       "    .dataframe tbody tr th {\n",
       "        vertical-align: top;\n",
       "    }\n",
       "\n",
       "    .dataframe thead th {\n",
       "        text-align: right;\n",
       "    }\n",
       "</style>\n",
       "<table border=\"1\" class=\"dataframe\">\n",
       "  <thead>\n",
       "    <tr style=\"text-align: right;\">\n",
       "      <th></th>\n",
       "      <th>Happiness Rank</th>\n",
       "      <th>Happiness Score</th>\n",
       "      <th>Standard Error</th>\n",
       "      <th>Economy (GDP per Capita)</th>\n",
       "      <th>Social Support</th>\n",
       "      <th>Health (Life Expectancy)</th>\n",
       "      <th>Freedom</th>\n",
       "      <th>Trust (Government Corruption)</th>\n",
       "      <th>Generosity</th>\n",
       "      <th>Year</th>\n",
       "      <th>Standard error of Happiness score</th>\n",
       "    </tr>\n",
       "  </thead>\n",
       "  <tbody>\n",
       "    <tr>\n",
       "      <th>count</th>\n",
       "      <td>1470.000000</td>\n",
       "      <td>1470.000000</td>\n",
       "      <td>1470.000000</td>\n",
       "      <td>1470.000000</td>\n",
       "      <td>1470.000000</td>\n",
       "      <td>1470.000000</td>\n",
       "      <td>1470.000000</td>\n",
       "      <td>1470.000000</td>\n",
       "      <td>1470.000000</td>\n",
       "      <td>1470.000000</td>\n",
       "      <td>1470.000000</td>\n",
       "    </tr>\n",
       "    <tr>\n",
       "      <th>mean</th>\n",
       "      <td>76.325850</td>\n",
       "      <td>5.448368</td>\n",
       "      <td>0.047080</td>\n",
       "      <td>4.089385</td>\n",
       "      <td>0.969487</td>\n",
       "      <td>24.671361</td>\n",
       "      <td>0.555297</td>\n",
       "      <td>0.352562</td>\n",
       "      <td>0.138323</td>\n",
       "      <td>2018.418367</td>\n",
       "      <td>0.058835</td>\n",
       "    </tr>\n",
       "    <tr>\n",
       "      <th>std</th>\n",
       "      <td>44.343336</td>\n",
       "      <td>1.122521</td>\n",
       "      <td>0.014077</td>\n",
       "      <td>4.191500</td>\n",
       "      <td>0.292215</td>\n",
       "      <td>31.376082</td>\n",
       "      <td>0.229495</td>\n",
       "      <td>0.321203</td>\n",
       "      <td>0.171428</td>\n",
       "      <td>2.684411</td>\n",
       "      <td>0.018970</td>\n",
       "    </tr>\n",
       "    <tr>\n",
       "      <th>min</th>\n",
       "      <td>1.000000</td>\n",
       "      <td>1.859000</td>\n",
       "      <td>0.018480</td>\n",
       "      <td>0.000000</td>\n",
       "      <td>0.000000</td>\n",
       "      <td>0.000000</td>\n",
       "      <td>0.000000</td>\n",
       "      <td>0.000000</td>\n",
       "      <td>-0.300907</td>\n",
       "      <td>2015.000000</td>\n",
       "      <td>0.025902</td>\n",
       "    </tr>\n",
       "    <tr>\n",
       "      <th>25%</th>\n",
       "      <td>38.000000</td>\n",
       "      <td>4.603500</td>\n",
       "      <td>0.038560</td>\n",
       "      <td>0.838585</td>\n",
       "      <td>0.793857</td>\n",
       "      <td>0.604693</td>\n",
       "      <td>0.392778</td>\n",
       "      <td>0.078000</td>\n",
       "      <td>0.032000</td>\n",
       "      <td>2016.000000</td>\n",
       "      <td>0.045728</td>\n",
       "    </tr>\n",
       "    <tr>\n",
       "      <th>50%</th>\n",
       "      <td>76.000000</td>\n",
       "      <td>5.458500</td>\n",
       "      <td>0.044401</td>\n",
       "      <td>1.286006</td>\n",
       "      <td>0.922906</td>\n",
       "      <td>0.832381</td>\n",
       "      <td>0.546040</td>\n",
       "      <td>0.179180</td>\n",
       "      <td>0.145505</td>\n",
       "      <td>2018.000000</td>\n",
       "      <td>0.055655</td>\n",
       "    </tr>\n",
       "    <tr>\n",
       "      <th>75%</th>\n",
       "      <td>114.000000</td>\n",
       "      <td>6.269000</td>\n",
       "      <td>0.050921</td>\n",
       "      <td>8.983500</td>\n",
       "      <td>1.185898</td>\n",
       "      <td>63.374625</td>\n",
       "      <td>0.750750</td>\n",
       "      <td>0.721000</td>\n",
       "      <td>0.243250</td>\n",
       "      <td>2021.000000</td>\n",
       "      <td>0.066772</td>\n",
       "    </tr>\n",
       "    <tr>\n",
       "      <th>max</th>\n",
       "      <td>158.000000</td>\n",
       "      <td>7.842000</td>\n",
       "      <td>0.136930</td>\n",
       "      <td>11.660000</td>\n",
       "      <td>1.644000</td>\n",
       "      <td>76.953000</td>\n",
       "      <td>0.974998</td>\n",
       "      <td>0.939000</td>\n",
       "      <td>0.838075</td>\n",
       "      <td>2023.000000</td>\n",
       "      <td>0.173000</td>\n",
       "    </tr>\n",
       "  </tbody>\n",
       "</table>\n",
       "</div>"
      ],
      "text/plain": [
       "       Happiness Rank  Happiness Score  Standard Error  \\\n",
       "count     1470.000000      1470.000000     1470.000000   \n",
       "mean        76.325850         5.448368        0.047080   \n",
       "std         44.343336         1.122521        0.014077   \n",
       "min          1.000000         1.859000        0.018480   \n",
       "25%         38.000000         4.603500        0.038560   \n",
       "50%         76.000000         5.458500        0.044401   \n",
       "75%        114.000000         6.269000        0.050921   \n",
       "max        158.000000         7.842000        0.136930   \n",
       "\n",
       "       Economy (GDP per Capita)  Social Support  Health (Life Expectancy)  \\\n",
       "count               1470.000000     1470.000000               1470.000000   \n",
       "mean                   4.089385        0.969487                 24.671361   \n",
       "std                    4.191500        0.292215                 31.376082   \n",
       "min                    0.000000        0.000000                  0.000000   \n",
       "25%                    0.838585        0.793857                  0.604693   \n",
       "50%                    1.286006        0.922906                  0.832381   \n",
       "75%                    8.983500        1.185898                 63.374625   \n",
       "max                   11.660000        1.644000                 76.953000   \n",
       "\n",
       "           Freedom  Trust (Government Corruption)   Generosity         Year  \\\n",
       "count  1470.000000                    1470.000000  1470.000000  1470.000000   \n",
       "mean      0.555297                       0.352562     0.138323  2018.418367   \n",
       "std       0.229495                       0.321203     0.171428     2.684411   \n",
       "min       0.000000                       0.000000    -0.300907  2015.000000   \n",
       "25%       0.392778                       0.078000     0.032000  2016.000000   \n",
       "50%       0.546040                       0.179180     0.145505  2018.000000   \n",
       "75%       0.750750                       0.721000     0.243250  2021.000000   \n",
       "max       0.974998                       0.939000     0.838075  2023.000000   \n",
       "\n",
       "       Standard error of Happiness score  \n",
       "count                        1470.000000  \n",
       "mean                            0.058835  \n",
       "std                             0.018970  \n",
       "min                             0.025902  \n",
       "25%                             0.045728  \n",
       "50%                             0.055655  \n",
       "75%                             0.066772  \n",
       "max                             0.173000  "
      ]
     },
     "execution_count": 47,
     "metadata": {},
     "output_type": "execute_result"
    }
   ],
   "source": [
    "df_hap.describe()"
   ]
  },
  {
   "cell_type": "code",
   "execution_count": 56,
   "id": "02546179",
   "metadata": {},
   "outputs": [
    {
     "data": {
      "text/plain": [
       "Index(['Country', 'Region', 'Happiness Rank', 'Happiness Score',\n",
       "       'Standard Error', 'Economy (GDP per Capita)', 'Social Support',\n",
       "       'Health (Life Expectancy)', 'Freedom', 'Trust (Government Corruption)',\n",
       "       'Generosity', 'Year', 'Standard error of Happiness score'],\n",
       "      dtype='object')"
      ]
     },
     "execution_count": 56,
     "metadata": {},
     "output_type": "execute_result"
    }
   ],
   "source": [
    "# Create a subset\n",
    "\n",
    "df_hap.columns"
   ]
  },
  {
   "cell_type": "code",
   "execution_count": 60,
   "id": "d91a3bdd",
   "metadata": {},
   "outputs": [
    {
     "data": {
      "text/html": [
       "<div>\n",
       "<style scoped>\n",
       "    .dataframe tbody tr th:only-of-type {\n",
       "        vertical-align: middle;\n",
       "    }\n",
       "\n",
       "    .dataframe tbody tr th {\n",
       "        vertical-align: top;\n",
       "    }\n",
       "\n",
       "    .dataframe thead th {\n",
       "        text-align: right;\n",
       "    }\n",
       "</style>\n",
       "<table border=\"1\" class=\"dataframe\">\n",
       "  <thead>\n",
       "    <tr style=\"text-align: right;\">\n",
       "      <th></th>\n",
       "      <th>Country</th>\n",
       "      <th>Region</th>\n",
       "      <th>Happiness Rank</th>\n",
       "      <th>Happiness Score</th>\n",
       "      <th>Standard Error</th>\n",
       "      <th>Economy (GDP per Capita)</th>\n",
       "      <th>Social Support</th>\n",
       "      <th>Health (Life Expectancy)</th>\n",
       "      <th>Freedom</th>\n",
       "      <th>Trust (Government Corruption)</th>\n",
       "      <th>Generosity</th>\n",
       "      <th>Year</th>\n",
       "      <th>Standard error of Happiness score</th>\n",
       "    </tr>\n",
       "  </thead>\n",
       "  <tbody>\n",
       "    <tr>\n",
       "      <th>0</th>\n",
       "      <td>Afghanistan</td>\n",
       "      <td>Southern Asia</td>\n",
       "      <td>153</td>\n",
       "      <td>3.575</td>\n",
       "      <td>0.030840</td>\n",
       "      <td>0.319820</td>\n",
       "      <td>0.302850</td>\n",
       "      <td>0.303350</td>\n",
       "      <td>0.23414</td>\n",
       "      <td>0.097190</td>\n",
       "      <td>0.365100</td>\n",
       "      <td>2015</td>\n",
       "      <td>0.031311</td>\n",
       "    </tr>\n",
       "    <tr>\n",
       "      <th>1</th>\n",
       "      <td>Afghanistan</td>\n",
       "      <td>Southern Asia</td>\n",
       "      <td>154</td>\n",
       "      <td>3.360</td>\n",
       "      <td>0.032983</td>\n",
       "      <td>0.382270</td>\n",
       "      <td>0.110370</td>\n",
       "      <td>0.173440</td>\n",
       "      <td>0.16430</td>\n",
       "      <td>0.071120</td>\n",
       "      <td>0.312680</td>\n",
       "      <td>2016</td>\n",
       "      <td>0.031311</td>\n",
       "    </tr>\n",
       "    <tr>\n",
       "      <th>2</th>\n",
       "      <td>Afghanistan</td>\n",
       "      <td>Southern Asia</td>\n",
       "      <td>141</td>\n",
       "      <td>3.794</td>\n",
       "      <td>0.035127</td>\n",
       "      <td>0.401477</td>\n",
       "      <td>0.581543</td>\n",
       "      <td>0.180747</td>\n",
       "      <td>0.10618</td>\n",
       "      <td>0.061158</td>\n",
       "      <td>0.311871</td>\n",
       "      <td>2017</td>\n",
       "      <td>0.031311</td>\n",
       "    </tr>\n",
       "    <tr>\n",
       "      <th>3</th>\n",
       "      <td>Afghanistan</td>\n",
       "      <td>Southern Asia</td>\n",
       "      <td>145</td>\n",
       "      <td>3.632</td>\n",
       "      <td>0.037270</td>\n",
       "      <td>0.332000</td>\n",
       "      <td>0.537000</td>\n",
       "      <td>0.255000</td>\n",
       "      <td>0.08500</td>\n",
       "      <td>0.036000</td>\n",
       "      <td>0.191000</td>\n",
       "      <td>2018</td>\n",
       "      <td>0.031311</td>\n",
       "    </tr>\n",
       "    <tr>\n",
       "      <th>4</th>\n",
       "      <td>Afghanistan</td>\n",
       "      <td>Southern Asia</td>\n",
       "      <td>154</td>\n",
       "      <td>3.203</td>\n",
       "      <td>0.039413</td>\n",
       "      <td>0.350000</td>\n",
       "      <td>0.517000</td>\n",
       "      <td>0.361000</td>\n",
       "      <td>0.00000</td>\n",
       "      <td>0.025000</td>\n",
       "      <td>0.158000</td>\n",
       "      <td>2019</td>\n",
       "      <td>0.031311</td>\n",
       "    </tr>\n",
       "  </tbody>\n",
       "</table>\n",
       "</div>"
      ],
      "text/plain": [
       "       Country         Region  Happiness Rank  Happiness Score  \\\n",
       "0  Afghanistan  Southern Asia             153            3.575   \n",
       "1  Afghanistan  Southern Asia             154            3.360   \n",
       "2  Afghanistan  Southern Asia             141            3.794   \n",
       "3  Afghanistan  Southern Asia             145            3.632   \n",
       "4  Afghanistan  Southern Asia             154            3.203   \n",
       "\n",
       "   Standard Error  Economy (GDP per Capita)  Social Support  \\\n",
       "0        0.030840                  0.319820        0.302850   \n",
       "1        0.032983                  0.382270        0.110370   \n",
       "2        0.035127                  0.401477        0.581543   \n",
       "3        0.037270                  0.332000        0.537000   \n",
       "4        0.039413                  0.350000        0.517000   \n",
       "\n",
       "   Health (Life Expectancy)  Freedom  Trust (Government Corruption)  \\\n",
       "0                  0.303350  0.23414                       0.097190   \n",
       "1                  0.173440  0.16430                       0.071120   \n",
       "2                  0.180747  0.10618                       0.061158   \n",
       "3                  0.255000  0.08500                       0.036000   \n",
       "4                  0.361000  0.00000                       0.025000   \n",
       "\n",
       "   Generosity  Year  Standard error of Happiness score  \n",
       "0    0.365100  2015                           0.031311  \n",
       "1    0.312680  2016                           0.031311  \n",
       "2    0.311871  2017                           0.031311  \n",
       "3    0.191000  2018                           0.031311  \n",
       "4    0.158000  2019                           0.031311  "
      ]
     },
     "execution_count": 60,
     "metadata": {},
     "output_type": "execute_result"
    }
   ],
   "source": [
    "df_hap.head()"
   ]
  },
  {
   "cell_type": "code",
   "execution_count": 62,
   "id": "bda91c67",
   "metadata": {},
   "outputs": [
    {
     "data": {
      "text/plain": [
       "pandas.core.frame.DataFrame"
      ]
     },
     "execution_count": 62,
     "metadata": {},
     "output_type": "execute_result"
    }
   ],
   "source": [
    "type(df_hap)"
   ]
  },
  {
   "cell_type": "markdown",
   "id": "ccedf969",
   "metadata": {},
   "source": [
    "# 3. Conduct consistency checks"
   ]
  },
  {
   "cell_type": "code",
   "execution_count": 64,
   "id": "0132ed76",
   "metadata": {},
   "outputs": [
    {
     "data": {
      "text/plain": [
       "Country                              0\n",
       "Region                               0\n",
       "Happiness Rank                       0\n",
       "Happiness Score                      0\n",
       "Standard Error                       0\n",
       "Economy (GDP per Capita)             0\n",
       "Social Support                       0\n",
       "Health (Life Expectancy)             0\n",
       "Freedom                              0\n",
       "Trust (Government Corruption)        0\n",
       "Generosity                           0\n",
       "Year                                 0\n",
       "Standard error of Happiness score    0\n",
       "dtype: int64"
      ]
     },
     "execution_count": 64,
     "metadata": {},
     "output_type": "execute_result"
    }
   ],
   "source": [
    "# Check for missing values\n",
    "\n",
    "df_hap.isnull().sum()"
   ]
  },
  {
   "cell_type": "markdown",
   "id": "112c9463",
   "metadata": {},
   "source": [
    "# Duplicates check"
   ]
  },
  {
   "cell_type": "code",
   "execution_count": 66,
   "id": "b30976a8",
   "metadata": {},
   "outputs": [],
   "source": [
    "dups = df_hap.duplicated()"
   ]
  },
  {
   "cell_type": "code",
   "execution_count": 68,
   "id": "0aef63df",
   "metadata": {},
   "outputs": [
    {
     "data": {
      "text/plain": [
       "(1470,)"
      ]
     },
     "execution_count": 68,
     "metadata": {},
     "output_type": "execute_result"
    }
   ],
   "source": [
    "dups.shape # no dups"
   ]
  },
  {
   "cell_type": "markdown",
   "id": "43bda287",
   "metadata": {},
   "source": [
    "# Extreme values checks"
   ]
  },
  {
   "cell_type": "code",
   "execution_count": 71,
   "id": "64d3c5fc",
   "metadata": {},
   "outputs": [
    {
     "data": {
      "text/plain": [
       "<Axes: xlabel='Happiness Score', ylabel='Count'>"
      ]
     },
     "execution_count": 71,
     "metadata": {},
     "output_type": "execute_result"
    },
    {
     "data": {
      "image/png": "[encoded data removed]",
      "text/plain": [
       "<Figure size 640x480 with 1 Axes>"
      ]
     },
     "metadata": {},
     "output_type": "display_data"
    }
   ],
   "source": [
    "sns.histplot(df_hap['Happiness Score'], bins=20, kde = True) # shows extreme values for 'Happiness Score'"
   ]
  },
  {
   "cell_type": "code",
   "execution_count": 73,
   "id": "2f8963de",
   "metadata": {},
   "outputs": [
    {
     "data": {
      "text/html": [
       "<div>\n",
       "<style scoped>\n",
       "    .dataframe tbody tr th:only-of-type {\n",
       "        vertical-align: middle;\n",
       "    }\n",
       "\n",
       "    .dataframe tbody tr th {\n",
       "        vertical-align: top;\n",
       "    }\n",
       "\n",
       "    .dataframe thead th {\n",
       "        text-align: right;\n",
       "    }\n",
       "</style>\n",
       "<table border=\"1\" class=\"dataframe\">\n",
       "  <thead>\n",
       "    <tr style=\"text-align: right;\">\n",
       "      <th></th>\n",
       "      <th>Country</th>\n",
       "      <th>Region</th>\n",
       "      <th>Happiness Rank</th>\n",
       "      <th>Happiness Score</th>\n",
       "      <th>Standard Error</th>\n",
       "      <th>Economy (GDP per Capita)</th>\n",
       "      <th>Social Support</th>\n",
       "      <th>Health (Life Expectancy)</th>\n",
       "      <th>Freedom</th>\n",
       "      <th>Trust (Government Corruption)</th>\n",
       "      <th>Generosity</th>\n",
       "      <th>Year</th>\n",
       "      <th>Standard error of Happiness score</th>\n",
       "    </tr>\n",
       "  </thead>\n",
       "  <tbody>\n",
       "  </tbody>\n",
       "</table>\n",
       "</div>"
      ],
      "text/plain": [
       "Empty DataFrame\n",
       "Columns: [Country, Region, Happiness Rank, Happiness Score, Standard Error, Economy (GDP per Capita), Social Support, Health (Life Expectancy), Freedom, Trust (Government Corruption), Generosity, Year, Standard error of Happiness score]\n",
       "Index: []"
      ]
     },
     "execution_count": 73,
     "metadata": {},
     "output_type": "execute_result"
    }
   ],
   "source": [
    "# Check how many extreme values\n",
    "\n",
    "df_hap[df_hap['Happiness Score'] >1000]"
   ]
  },
  {
   "cell_type": "code",
   "execution_count": 76,
   "id": "7eda8031",
   "metadata": {},
   "outputs": [],
   "source": [
    "# Clean extreme values\n",
    "\n",
    "df_hap = df_hap[df_hap['Happiness Score'] < 500] \n"
   ]
  },
  {
   "cell_type": "code",
   "execution_count": 78,
   "id": "4aaa49bf",
   "metadata": {},
   "outputs": [
    {
     "data": {
      "text/plain": [
       "(1470, 13)"
      ]
     },
     "execution_count": 78,
     "metadata": {},
     "output_type": "execute_result"
    }
   ],
   "source": [
    "df_hap.shape"
   ]
  },
  {
   "cell_type": "code",
   "execution_count": 80,
   "id": "5efa1e09",
   "metadata": {},
   "outputs": [],
   "source": [
    "# Create a 'Social Support' column\n",
    "\n",
    "df_hap['Social Support'] = df_hap['Social Support']*4"
   ]
  },
  {
   "cell_type": "code",
   "execution_count": 82,
   "id": "84692795",
   "metadata": {},
   "outputs": [
    {
     "data": {
      "text/plain": [
       "<Axes: xlabel='Social Support', ylabel='Count'>"
      ]
     },
     "execution_count": 82,
     "metadata": {},
     "output_type": "execute_result"
    },
    {
     "data": {
      "image/png": "[encoded data removed]",
      "text/plain": [
       "<Figure size 640x480 with 1 Axes>"
      ]
     },
     "metadata": {},
     "output_type": "display_data"
    }
   ],
   "source": [
    "sns.histplot(df_hap['Social Support'], bins=20, kde = True)  # shows extreme values for 'Social Support'"
   ]
  },
  {
   "cell_type": "code",
   "execution_count": 84,
   "id": "21f2db7c",
   "metadata": {},
   "outputs": [],
   "source": [
    "# Clean extreme values in 'Social Support'\n",
    "\n",
    "df_hap = df_hap[df_hap['Social Support'] < 8000]"
   ]
  },
  {
   "cell_type": "code",
   "execution_count": 87,
   "id": "133b1306",
   "metadata": {},
   "outputs": [
    {
     "data": {
      "text/plain": [
       "<Axes: xlabel='Health (Life Expectancy)', ylabel='Count'>"
      ]
     },
     "execution_count": 87,
     "metadata": {},
     "output_type": "execute_result"
    },
    {
     "data": {
      "image/png": "[encoded data removed]",
      "text/plain": [
       "<Figure size 640x480 with 1 Axes>"
      ]
     },
     "metadata": {},
     "output_type": "display_data"
    }
   ],
   "source": [
    "# Check the Health (Life Expectancy) variable\n",
    "\n",
    "sns.histplot(df_hap['Health (Life Expectancy)'], bins=20, kde = True)"
   ]
  },
  {
   "cell_type": "code",
   "execution_count": 89,
   "id": "dacaca8d",
   "metadata": {},
   "outputs": [],
   "source": [
    "# Select only entries with a non-zero Health (Life Expectancy)\n",
    "\n",
    "df_hap = df_hap[df_hap['Health (Life Expectancy)'] >= 1]"
   ]
  },
  {
   "cell_type": "code",
   "execution_count": 91,
   "id": "554c732e",
   "metadata": {},
   "outputs": [
    {
     "data": {
      "text/plain": [
       "Country                               object\n",
       "Region                                object\n",
       "Happiness Rank                         int64\n",
       "Happiness Score                      float64\n",
       "Standard Error                       float64\n",
       "Economy (GDP per Capita)             float64\n",
       "Social Support                       float64\n",
       "Health (Life Expectancy)             float64\n",
       "Freedom                              float64\n",
       "Trust (Government Corruption)        float64\n",
       "Generosity                           float64\n",
       "Year                                   int64\n",
       "Standard error of Happiness score    float64\n",
       "dtype: object"
      ]
     },
     "execution_count": 91,
     "metadata": {},
     "output_type": "execute_result"
    }
   ],
   "source": [
    "df_hap.dtypes"
   ]
  },
  {
   "cell_type": "markdown",
   "id": "07d1e37f",
   "metadata": {},
   "source": [
    "# 4. Plotting a choropleth"
   ]
  },
  {
   "cell_type": "code",
   "execution_count": 94,
   "id": "bced5072",
   "metadata": {},
   "outputs": [
    {
     "data": {
      "text/html": [
       "<div>\n",
       "<style scoped>\n",
       "    .dataframe tbody tr th:only-of-type {\n",
       "        vertical-align: middle;\n",
       "    }\n",
       "\n",
       "    .dataframe tbody tr th {\n",
       "        vertical-align: top;\n",
       "    }\n",
       "\n",
       "    .dataframe thead th {\n",
       "        text-align: right;\n",
       "    }\n",
       "</style>\n",
       "<table border=\"1\" class=\"dataframe\">\n",
       "  <thead>\n",
       "    <tr style=\"text-align: right;\">\n",
       "      <th></th>\n",
       "      <th>Country</th>\n",
       "      <th>Health (Life Expectancy)</th>\n",
       "    </tr>\n",
       "  </thead>\n",
       "  <tbody>\n",
       "    <tr>\n",
       "      <th>5</th>\n",
       "      <td>Afghanistan</td>\n",
       "      <td>52.590000</td>\n",
       "    </tr>\n",
       "    <tr>\n",
       "      <th>6</th>\n",
       "      <td>Afghanistan</td>\n",
       "      <td>52.493000</td>\n",
       "    </tr>\n",
       "    <tr>\n",
       "      <th>7</th>\n",
       "      <td>Afghanistan</td>\n",
       "      <td>53.602500</td>\n",
       "    </tr>\n",
       "    <tr>\n",
       "      <th>8</th>\n",
       "      <td>Afghanistan</td>\n",
       "      <td>54.712000</td>\n",
       "    </tr>\n",
       "    <tr>\n",
       "      <th>15</th>\n",
       "      <td>Albania</td>\n",
       "      <td>68.708138</td>\n",
       "    </tr>\n",
       "  </tbody>\n",
       "</table>\n",
       "</div>"
      ],
      "text/plain": [
       "        Country  Health (Life Expectancy)\n",
       "5   Afghanistan                 52.590000\n",
       "6   Afghanistan                 52.493000\n",
       "7   Afghanistan                 53.602500\n",
       "8   Afghanistan                 54.712000\n",
       "15      Albania                 68.708138"
      ]
     },
     "execution_count": 94,
     "metadata": {},
     "output_type": "execute_result"
    }
   ],
   "source": [
    "# Create a data frame with just the Country and the values for 'Health (Life Expectancy) we want plotted\n",
    "\n",
    "data_to_plot = df_hap[['Country','Health (Life Expectancy)']]\n",
    "data_to_plot.head()"
   ]
  },
  {
   "cell_type": "code",
   "execution_count": 129,
   "id": "26871d58",
   "metadata": {},
   "outputs": [
    {
     "data": {
      "text/plain": [
       "<folium.map.LayerControl at 0x7f887d456d10>"
      ]
     },
     "execution_count": 129,
     "metadata": {},
     "output_type": "execute_result"
    }
   ],
   "source": [
    "# Setup a folium map at a high-level zoom\n",
    "map = folium.Map(location = [100, 0], zoom_start = 1.5)\n",
    "\n",
    "# Choropleth maps bind Pandas Data Frames and World Happiness Data.This allows us to quickly visualize data combinations\n",
    "folium.Choropleth(\n",
    "    geo_data = country_geo, \n",
    "    data = data_to_plot,\n",
    "    columns = ['Country', 'Health (Life Expectancy)'],\n",
    "    key_on = 'feature.properties.name', # this part is very important - check your World Happiness file to see where the KEY is located\n",
    "    fill_color = 'YlOrBr', fill_opacity=0.6, line_opacity=0.1,\n",
    "    legend_name = \"Health (Life Expectancy)\").add_to(map)\n",
    "folium.LayerControl().add_to(map)\n"
   ]
  },
  {
   "cell_type": "code",
   "execution_count": 130,
   "id": "ba4e521a",
   "metadata": {},
   "outputs": [],
   "source": [
    "map.save('plot_data.html')"
   ]
  },
  {
   "cell_type": "markdown",
   "id": "755e1aa7",
   "metadata": {},
   "source": [
    "# Observations\n",
    "Happiness Score ranges between 4-6.5 showing that Happiness is high within these count\n",
    "Social support ranges between 10- 15\n",
    "Health Life Expectancy as a high at 0 meaning there is no high life expectancy"
   ]
  }
 ],
 "metadata": {
  "kernelspec": {
   "display_name": "Python 3 (ipykernel)",
   "language": "python",
   "name": "python3"
  },
  "language_info": {
   "codemirror_mode": {
    "name": "ipython",
    "version": 3
   },
   "file_extension": ".py",
   "mimetype": "text/x-python",
   "name": "python",
   "nbconvert_exporter": "python",
   "pygments_lexer": "ipython3",
   "version": "3.10.9"
  }
 },
 "nbformat": 4,
 "nbformat_minor": 5
}
